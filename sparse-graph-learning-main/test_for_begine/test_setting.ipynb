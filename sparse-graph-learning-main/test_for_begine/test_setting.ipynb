{
 "cells": [
  {
   "cell_type": "code",
   "execution_count": 1,
   "id": "37510b6a",
   "metadata": {},
   "outputs": [
    {
     "name": "stdout",
     "output_type": "stream",
     "text": [
      "CWD = /home/wangxc1117/sparse-graph-learning-use/sparse-graph-learning-main\n",
      "PYTHONPATH = /home/wangxc1117/sparse-graph-learning-use/sparse-graph-learning-main\n"
     ]
    }
   ],
   "source": [
    "import os, pathlib\n",
    "ROOT = pathlib.Path.home() / \"sparse-graph-learning-use\" / \"sparse-graph-learning-main\"\n",
    "os.chdir(ROOT)\n",
    "os.environ[\"PYTHONPATH\"] = str(ROOT)\n",
    "print(\"CWD =\", os.getcwd())\n",
    "print(\"PYTHONPATH =\", os.environ[\"PYTHONPATH\"])\n"
   ]
  },
  {
   "cell_type": "code",
   "execution_count": 2,
   "id": "78ddea96",
   "metadata": {},
   "outputs": [
    {
     "name": "stdout",
     "output_type": "stream",
     "text": [
      "寫入設定： /home/wangxc1117/sparse-graph-learning-use/sparse-graph-learning-main/config/synthetic/defaults.yaml\n",
      "dataset:\n",
      "  name: gpvar\n",
      "\n"
     ]
    }
   ],
   "source": [
    "from pathlib import Path\n",
    "\n",
    "cfg_dir = Path(\"config/synthetic\")\n",
    "cfg_dir.mkdir(parents=True, exist_ok=True)\n",
    "cfg_file = cfg_dir / \"defaults.yaml\"\n",
    "\n",
    "# 最小可跑設定（合成資料 gpvar）\n",
    "cfg_text = \"dataset:\\n  name: gpvar\\n\"\n",
    "cfg_file.write_text(cfg_text, encoding=\"utf-8\")\n",
    "\n",
    "print(\"寫入設定：\", cfg_file.resolve())\n",
    "print(cfg_file.read_text())\n"
   ]
  },
  {
   "cell_type": "code",
   "execution_count": 3,
   "id": "d124bfff",
   "metadata": {},
   "outputs": [
    {
     "name": "stderr",
     "output_type": "stream",
     "text": [
      "Seed set to 528905759\n"
     ]
    },
    {
     "name": "stdout",
     "output_type": "stream",
     "text": [
      "[2025-10-21 21:59:48,446][tsl][INFO] - \n",
      "**** Experiment config ****\n",
      "tags:\n",
      "- synthetic\n",
      "- graph_id\n",
      "workers: 0\n",
      "num_threads: 1\n",
      "dataset:\n",
      "  name: gpolyvar\n",
      "  splits:\n",
      "    val_len: 0.1\n",
      "    test_len: 0.2\n",
      "window: 12\n",
      "horizon: 1\n",
      "stride: 1\n",
      "batch_size: 128\n",
      "epochs: 50\n",
      "patience: 400\n",
      "batches_epoch: -1\n",
      "graph_mode: sf\n",
      "mc_samples: 1\n",
      "lam: null\n",
      "sf_weight: 1.0\n",
      "use_baseline: true\n",
      "variance_reduced: true\n",
      "graph_module:\n",
      "  hparams:\n",
      "    k: 5\n",
      "    tau: 1.0\n",
      "    sampler: sns\n",
      "    dummy_nodes: 4\n",
      "clip_grad: true\n",
      "optimizer:\n",
      "  hparams:\n",
      "    lr: 0.05\n",
      "    weight_decay: 0.0\n",
      "experiment_name: graph_id\n",
      "run:\n",
      "  seed: 528905759\n",
      "  dir: /home/wangxc1117/sparse-graph-learning-use/sparse-graph-learning-main/logs/synthetic/2025-10-21/21-59-48\n",
      "  name: 2025-10-21_21-59-48_528905759\n",
      "\n",
      "[2025-10-21 21:59:52,999][tsl][INFO] - Fit and set scaler for target: StandardScaler(bias=(1, 1, 1), scale=(1, 1, 1))\n"
     ]
    },
    {
     "name": "stderr",
     "output_type": "stream",
     "text": [
      "GPU available: False, used: False\n",
      "TPU available: False, using: 0 TPU cores\n",
      "HPU available: False, using: 0 HPUs\n",
      "/home/wangxc1117/miniconda3/envs/sgl/lib/python3.10/site-packages/pytorch_lightning/trainer/connectors/logger_connector/logger_connector.py:76: Starting from v1.9.0, `tensorboardX` has been removed as a dependency of the `pytorch_lightning` package, due to potential conflicts with other packages in the ML ecosystem. For this reason, `logger=True` will use `CSVLogger` as the default logger, unless the `tensorboard` or `tensorboardX` packages are found. Please `pip install lightning[extra]` or one of them to enable TensorBoard support by default\n",
      "`Trainer(limit_train_batches=1.0)` was configured so 100% of the batches per epoch will be used..\n"
     ]
    },
    {
     "name": "stdout",
     "output_type": "stream",
     "text": [
      "[2025-10-21 21:59:53,112][tsl][INFO] - Optimal MAE (analytical) 0.3191538155078888\n"
     ]
    },
    {
     "name": "stderr",
     "output_type": "stream",
     "text": [
      "/home/wangxc1117/miniconda3/envs/sgl/lib/python3.10/site-packages/pytorch_lightning/callbacks/model_checkpoint.py:751: Checkpoint directory /home/wangxc1117/sparse-graph-learning-use/sparse-graph-learning-main/logs/synthetic/2025-10-21/21-59-48 exists and is not empty.\n",
      "\n",
      "  | Name          | Type                   | Params | Mode \n",
      "-----------------------------------------------------------------\n",
      "0 | loss_fn       | MaskedMAE              | 0      | train\n",
      "1 | train_metrics | MetricCollection       | 0      | train\n",
      "2 | val_metrics   | MetricCollection       | 0      | train\n",
      "3 | test_metrics  | MetricCollection       | 0      | train\n",
      "4 | model         | GraphPolyVARFilter     | 6      | train\n",
      "5 | graph_module  | GraphModule            | 1.2 K  | train\n",
      "6 | sf_loss       | MaskedScoreFuctionLoss | 0      | train\n",
      "-----------------------------------------------------------------\n",
      "1.2 K     Trainable params\n",
      "6         Non-trainable params\n",
      "1.2 K     Total params\n",
      "0.005     Total estimated model params size (MB)\n",
      "21        Modules in train mode\n",
      "0         Modules in eval mode\n"
     ]
    },
    {
     "name": "stdout",
     "output_type": "stream",
     "text": [
      "Sanity Checking DataLoader 0:   0%|          | 0/2 [00:00<?, ?it/s]"
     ]
    },
    {
     "name": "stderr",
     "output_type": "stream",
     "text": [
      "/home/wangxc1117/miniconda3/envs/sgl/lib/python3.10/site-packages/pytorch_lightning/trainer/connectors/data_connector.py:433: The 'val_dataloader' does not have many workers which may be a bottleneck. Consider increasing the value of the `num_workers` argument` to `num_workers=19` in the `DataLoader` to improve performance.\n"
     ]
    },
    {
     "name": "stdout",
     "output_type": "stream",
     "text": [
      "                                                                           "
     ]
    },
    {
     "name": "stderr",
     "output_type": "stream",
     "text": [
      "/home/wangxc1117/miniconda3/envs/sgl/lib/python3.10/site-packages/pytorch_lightning/trainer/connectors/data_connector.py:433: The 'train_dataloader' does not have many workers which may be a bottleneck. Consider increasing the value of the `num_workers` argument` to `num_workers=19` in the `DataLoader` to improve performance.\n"
     ]
    },
    {
     "name": "stdout",
     "output_type": "stream",
     "text": [
      "Epoch 49: 100%|██████████| 168/168 [00:33<00:00,  5.02it/s, v_num=0, val_mae=0.321, val_mape=1.770, val_mse=0.162, train_mae=0.325, train_mape=1.650, train_mse=0.168]"
     ]
    },
    {
     "name": "stderr",
     "output_type": "stream",
     "text": [
      "`Trainer.fit` stopped: `max_epochs=50` reached.\n"
     ]
    },
    {
     "name": "stdout",
     "output_type": "stream",
     "text": [
      "Epoch 49: 100%|██████████| 168/168 [00:33<00:00,  5.02it/s, v_num=0, val_mae=0.321, val_mape=1.770, val_mse=0.162, train_mae=0.325, train_mape=1.650, train_mse=0.168]\n"
     ]
    },
    {
     "name": "stderr",
     "output_type": "stream",
     "text": [
      "/home/wangxc1117/sparse-graph-learning-use/sparse-graph-learning-main/experiments/run_synthetic.py:178: FutureWarning: You are using `torch.load` with `weights_only=False` (the current default value), which uses the default pickle module implicitly. It is possible to construct malicious pickle data which will execute arbitrary code during unpickling (See https://github.com/pytorch/pytorch/blob/main/SECURITY.md#untrusted-models for more details). In a future release, the default value for `weights_only` will be flipped to `True`. This limits the functions that could be executed during unpickling. Arbitrary objects will no longer be allowed to be loaded via this mode unless they are explicitly allowlisted by the user via `torch.serialization.add_safe_globals`. We recommend you start setting `weights_only=True` for any use case where you don't have full control of the loaded file. Please open an issue on GitHub for any issues related to this experimental feature.\n",
      "  torch.load(checkpoint_callback.best_model_path,\n",
      "/home/wangxc1117/miniconda3/envs/sgl/lib/python3.10/site-packages/pytorch_lightning/trainer/connectors/data_connector.py:433: The 'test_dataloader' does not have many workers which may be a bottleneck. Consider increasing the value of the `num_workers` argument` to `num_workers=19` in the `DataLoader` to improve performance.\n"
     ]
    },
    {
     "name": "stdout",
     "output_type": "stream",
     "text": [
      "Testing DataLoader 0: 100%|██████████| 47/47 [00:00<00:00, 94.41it/s]\n",
      "────────────────────────────────────────────────────────────────────────────────────────────────────────────────────────\n",
      "       Test metric             DataLoader 0\n",
      "────────────────────────────────────────────────────────────────────────────────────────────────────────────────────────\n",
      "        test_loss           0.3223724365234375\n",
      "        test_mae            0.3223724365234375\n",
      "        test_mape            2.684734582901001\n",
      "        test_mse            0.16349737346172333\n",
      "────────────────────────────────────────────────────────────────────────────────────────────────────────────────────────\n"
     ]
    }
   ],
   "source": [
    "import os, sys\n",
    "from tsl.experiment import Experiment\n",
    "from experiments.run_synthetic import run_experiment\n",
    "\n",
    "# 讓 Python 找到 lib/*\n",
    "ROOT = os.path.expanduser(\"~/sparse-graph-learning-use/sparse-graph-learning-main\")\n",
    "os.chdir(ROOT)\n",
    "os.environ[\"PYTHONPATH\"] = ROOT\n",
    "\n",
    "# 先用 CPU（要用 GPU 把這行刪掉）\n",
    "os.environ[\"CUDA_VISIBLE_DEVICES\"] = \"\"\n",
    "\n",
    "# ！！關鍵：把 Notebook 自帶的參數清掉，避免 Hydra 誤判\n",
    "sys.argv = [\"run_synthetic.py\", \"config=defaults\"]\n",
    "\n",
    "exp = Experiment(run_fn=run_experiment,\n",
    "                 config_path=\"config/synthetic\",\n",
    "                 config_name=\"defaults\")\n",
    "exp.run()\n"
   ]
  }
 ],
 "metadata": {
  "kernelspec": {
   "display_name": "sgl",
   "language": "python",
   "name": "python3"
  },
  "language_info": {
   "codemirror_mode": {
    "name": "ipython",
    "version": 3
   },
   "file_extension": ".py",
   "mimetype": "text/x-python",
   "name": "python",
   "nbconvert_exporter": "python",
   "pygments_lexer": "ipython3",
   "version": "3.10.19"
  }
 },
 "nbformat": 4,
 "nbformat_minor": 5
}
