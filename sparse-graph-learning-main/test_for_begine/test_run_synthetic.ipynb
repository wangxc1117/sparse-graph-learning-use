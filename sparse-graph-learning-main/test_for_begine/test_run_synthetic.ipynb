{
 "cells": [
  {
   "cell_type": "code",
   "execution_count": 5,
   "id": "8aca4be4",
   "metadata": {},
   "outputs": [
    {
     "name": "stderr",
     "output_type": "stream",
     "text": [
      "Seed set to 703907407\n"
     ]
    },
    {
     "name": "stdout",
     "output_type": "stream",
     "text": [
      "[2025-10-23 11:17:40,444][tsl][INFO] - \n",
      "**** Experiment config ****\n",
      "tags:\n",
      "- synthetic\n",
      "- graph_id\n",
      "workers: 0\n",
      "num_threads: 1\n",
      "dataset:\n",
      "  name: gpolyvar\n",
      "  splits:\n",
      "    val_len: 0.1\n",
      "    test_len: 0.2\n",
      "window: 12\n",
      "horizon: 1\n",
      "stride: 1\n",
      "batch_size: 128\n",
      "epochs: 50\n",
      "patience: 400\n",
      "batches_epoch: -1\n",
      "graph_mode: sf\n",
      "mc_samples: 1\n",
      "lam: null\n",
      "sf_weight: 1.0\n",
      "use_baseline: true\n",
      "variance_reduced: true\n",
      "graph_module:\n",
      "  hparams:\n",
      "    k: 5\n",
      "    tau: 1.0\n",
      "    sampler: sns\n",
      "    dummy_nodes: 4\n",
      "clip_grad: true\n",
      "optimizer:\n",
      "  hparams:\n",
      "    lr: 0.05\n",
      "    weight_decay: 0.0\n",
      "experiment_name: graph_id\n",
      "run:\n",
      "  seed: 703907407\n",
      "  dir: /home/wangxc1117/sparse-graph-learning-use/sparse-graph-learning-main/logs/synthetic/2025-10-23/11-17-40\n",
      "  name: 2025-10-23_11-17-40_703907407\n",
      "\n",
      "[2025-10-23 11:17:44,758][tsl][INFO] - Fit and set scaler for target: StandardScaler(bias=(1, 1, 1), scale=(1, 1, 1))\n"
     ]
    },
    {
     "name": "stderr",
     "output_type": "stream",
     "text": [
      "GPU available: False, used: False\n",
      "TPU available: False, using: 0 TPU cores\n",
      "HPU available: False, using: 0 HPUs\n",
      "`Trainer(limit_train_batches=1.0)` was configured so 100% of the batches per epoch will be used..\n"
     ]
    },
    {
     "name": "stdout",
     "output_type": "stream",
     "text": [
      "[2025-10-23 11:17:44,814][tsl][INFO] - Optimal MAE (analytical) 0.3191538155078888\n"
     ]
    },
    {
     "name": "stderr",
     "output_type": "stream",
     "text": [
      "/home/wangxc1117/miniconda3/envs/sgl/lib/python3.10/site-packages/pytorch_lightning/callbacks/model_checkpoint.py:751: Checkpoint directory /home/wangxc1117/sparse-graph-learning-use/sparse-graph-learning-main/logs/synthetic/2025-10-23/11-17-40 exists and is not empty.\n",
      "\n",
      "  | Name          | Type                   | Params | Mode \n",
      "-----------------------------------------------------------------\n",
      "0 | loss_fn       | MaskedMAE              | 0      | train\n",
      "1 | train_metrics | MetricCollection       | 0      | train\n",
      "2 | val_metrics   | MetricCollection       | 0      | train\n",
      "3 | test_metrics  | MetricCollection       | 0      | train\n",
      "4 | model         | GraphPolyVARFilter     | 6      | train\n",
      "5 | graph_module  | GraphModule            | 1.2 K  | train\n",
      "6 | sf_loss       | MaskedScoreFuctionLoss | 0      | train\n",
      "-----------------------------------------------------------------\n",
      "1.2 K     Trainable params\n",
      "6         Non-trainable params\n",
      "1.2 K     Total params\n",
      "0.005     Total estimated model params size (MB)\n",
      "21        Modules in train mode\n",
      "0         Modules in eval mode\n"
     ]
    },
    {
     "name": "stdout",
     "output_type": "stream",
     "text": [
      "Epoch 49: 100%|██████████| 168/168 [00:32<00:00,  5.21it/s, v_num=0, val_mae=0.321, val_mape=1.770, val_mse=0.162, train_mae=0.325, train_mape=1.650, train_mse=0.168]"
     ]
    },
    {
     "name": "stderr",
     "output_type": "stream",
     "text": [
      "`Trainer.fit` stopped: `max_epochs=50` reached.\n"
     ]
    },
    {
     "name": "stdout",
     "output_type": "stream",
     "text": [
      "Epoch 49: 100%|██████████| 168/168 [00:32<00:00,  5.21it/s, v_num=0, val_mae=0.321, val_mape=1.770, val_mse=0.162, train_mae=0.325, train_mape=1.650, train_mse=0.168]\n"
     ]
    },
    {
     "name": "stderr",
     "output_type": "stream",
     "text": [
      "/home/wangxc1117/sparse-graph-learning-use/sparse-graph-learning-main/experiments/run_synthetic.py:178: FutureWarning: You are using `torch.load` with `weights_only=False` (the current default value), which uses the default pickle module implicitly. It is possible to construct malicious pickle data which will execute arbitrary code during unpickling (See https://github.com/pytorch/pytorch/blob/main/SECURITY.md#untrusted-models for more details). In a future release, the default value for `weights_only` will be flipped to `True`. This limits the functions that could be executed during unpickling. Arbitrary objects will no longer be allowed to be loaded via this mode unless they are explicitly allowlisted by the user via `torch.serialization.add_safe_globals`. We recommend you start setting `weights_only=True` for any use case where you don't have full control of the loaded file. Please open an issue on GitHub for any issues related to this experimental feature.\n",
      "  torch.load(checkpoint_callback.best_model_path,\n",
      "/home/wangxc1117/miniconda3/envs/sgl/lib/python3.10/site-packages/pytorch_lightning/trainer/connectors/data_connector.py:433: The 'test_dataloader' does not have many workers which may be a bottleneck. Consider increasing the value of the `num_workers` argument` to `num_workers=19` in the `DataLoader` to improve performance.\n"
     ]
    },
    {
     "name": "stdout",
     "output_type": "stream",
     "text": [
      "Testing DataLoader 0: 100%|██████████| 47/47 [00:00<00:00, 107.91it/s]\n",
      "────────────────────────────────────────────────────────────────────────────────────────────────────────────────────────\n",
      "       Test metric             DataLoader 0\n",
      "────────────────────────────────────────────────────────────────────────────────────────────────────────────────────────\n",
      "        test_loss           0.3223724365234375\n",
      "        test_mae            0.3223724365234375\n",
      "        test_mape            2.684734582901001\n",
      "        test_mse            0.16349737346172333\n",
      "────────────────────────────────────────────────────────────────────────────────────────────────────────────────────────\n"
     ]
    }
   ],
   "source": [
    "import os, sys\n",
    "from pathlib import Path\n",
    "\n",
    "# 1) 先設定 repo 根目錄，並加入 sys.path / PYTHONPATH\n",
    "ROOT = Path.home() / \"sparse-graph-learning-use\" / \"sparse-graph-learning-main\"\n",
    "os.chdir(ROOT)\n",
    "if str(ROOT) not in sys.path:\n",
    "    sys.path.insert(0, str(ROOT))\n",
    "os.environ[\"PYTHONPATH\"] = str(ROOT)\n",
    "\n",
    "# 2)（可選）強制用 CPU\n",
    "# os.environ[\"CUDA_VISIBLE_DEVICES\"] = \"\"\n",
    "\n",
    "# 3) 清掉 notebook 夾帶的 argv，指定要用的 hydra config\n",
    "sys.argv = [\"run_synthetic.py\", \"config=defaults\"]\n",
    "\n",
    "# 4) 現在再 import\n",
    "from tsl.experiment import Experiment\n",
    "from experiments.run_synthetic import run_experiment\n",
    "\n",
    "# 5) 啟動（不想真的跑就先註解）\n",
    "exp = Experiment(run_fn=run_experiment,\n",
    "                 config_path=\"config/synthetic\",\n",
    "                 config_name=\"defaults\")\n",
    "exp.run()\n"
   ]
  }
 ],
 "metadata": {
  "kernelspec": {
   "display_name": "sgl",
   "language": "python",
   "name": "python3"
  },
  "language_info": {
   "codemirror_mode": {
    "name": "ipython",
    "version": 3
   },
   "file_extension": ".py",
   "mimetype": "text/x-python",
   "name": "python",
   "nbconvert_exporter": "python",
   "pygments_lexer": "ipython3",
   "version": "3.10.19"
  }
 },
 "nbformat": 4,
 "nbformat_minor": 5
}
